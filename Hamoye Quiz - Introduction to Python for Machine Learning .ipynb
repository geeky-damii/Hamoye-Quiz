{
 "cells": [
  {
   "cell_type": "code",
   "execution_count": 54,
   "metadata": {},
   "outputs": [
    {
     "data": {
      "text/plain": [
       "utility_id_ferc1                    1.088432\n",
       "report_year                        -1.145656\n",
       "fuel_qty_burned                   651.369450\n",
       "fuel_mmbtu_per_unit                55.595695\n",
       "fuel_cost_per_unit_burned         485.255851\n",
       "fuel_cost_per_unit_delivered    11765.054226\n",
       "fuel_cost_per_mmbtu             29489.132594\n",
       "dtype: float64"
      ]
     },
     "execution_count": 54,
     "metadata": {},
     "output_type": "execute_result"
    }
   ],
   "source": [
    "#importing libraries\n",
    "import numpy as np\n",
    "import pandas as pd\n",
    "import matplotlib.pyplot as plt\n",
    "import seaborn as sns\n",
    "\n",
    "#reading the data file\n",
    "fuel_data = pd.read_csv(r'C:\\Users\\micha\\OneDrive\\Desktop\\Python\\Data Science and ML\\fuel_ferc.csv', error_bad_lines = False)\n",
    "pd.set_option('display.max_columns', None) #setting display to show all columns\n",
    "\n",
    "fuel_data.groupby('fuel_type_code_pudl').describe(include= [np.number])\n",
    "#gas has the lowest average fuel cost per unit burned"
   ]
  },
  {
   "cell_type": "code",
   "execution_count": null,
   "metadata": {},
   "outputs": [],
   "source": [
    "fuel_data.groupby('fuel_type_code_pudl').describe(include = [np.number])\n",
    "# answer : 10.60 and 17.01"
   ]
  },
  {
   "cell_type": "code",
   "execution_count": null,
   "metadata": {},
   "outputs": [],
   "source": [
    "fuel_data.skew(axis = 0, skipna = True)\n",
    "fuel_data.kurt(axis = 0)\n",
    "# answer : 15.85 and 651.37"
   ]
  },
  {
   "cell_type": "code",
   "execution_count": null,
   "metadata": {},
   "outputs": [],
   "source": [
    "data_missing = fuel_data.isnull().sum()\n",
    "len(fuel_data)\n",
    "data_missing / len(fuel_data)\n",
    "#Feature: fuel_unit, Total: 180, Percent: 0.006097"
   ]
  },
  {
   "cell_type": "code",
   "execution_count": null,
   "metadata": {},
   "outputs": [],
   "source": [
    "# Correlation\n",
    "fuel_data.corr(method = 'pearson')\n",
    "# answer : fuel_qty_burned and fuel_mmbtu_per_unit\n"
   ]
  },
  {
   "cell_type": "code",
   "execution_count": null,
   "metadata": {},
   "outputs": [],
   "source": [
    "fuel_data.groupby('report_year').describe()\n",
    "# 1997"
   ]
  }
 ],
 "metadata": {
  "kernelspec": {
   "display_name": "Python 3",
   "language": "python",
   "name": "python3"
  },
  "language_info": {
   "codemirror_mode": {
    "name": "ipython",
    "version": 3
   },
   "file_extension": ".py",
   "mimetype": "text/x-python",
   "name": "python",
   "nbconvert_exporter": "python",
   "pygments_lexer": "ipython3",
   "version": "3.7.6"
  }
 },
 "nbformat": 4,
 "nbformat_minor": 4
}
